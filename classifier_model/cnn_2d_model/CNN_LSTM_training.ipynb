{
 "cells": [
  {
   "cell_type": "code",
   "execution_count": null,
   "id": "4847eb00-8390-4d96-a4e4-4e109d3ac658",
   "metadata": {},
   "outputs": [],
   "source": [
    "# CNN_LSTM_train.ipynb\n",
    "\n",
    "import os\n",
    "import torch\n",
    "import torch.nn as nn\n",
    "import torch.optim as optim\n",
    "from torch.utils.data import DataLoader\n",
    "from tqdm import tqdm\n",
    "from torchvision import transforms\n",
    "\n",
    "from CNN_LSTM_dataset import HelplessnessVideoDataset\n",
    "from CNN_LSTM_model import HelplessnessClassifier\n"
   ]
  },
  {
   "cell_type": "code",
   "execution_count": 2,
   "id": "7bac7913-d214-4d3d-b9ca-9a9e2829683a",
   "metadata": {},
   "outputs": [
    {
     "name": "stdout",
     "output_type": "stream",
     "text": [
      "Using device: cpu\n"
     ]
    }
   ],
   "source": [
    "### A) Device Setup\n",
    "device = torch.device(\"cuda\" if torch.cuda.is_available() else \"cpu\")\n",
    "print(f\"Using device: {device}\")"
   ]
  },
  {
   "cell_type": "code",
   "execution_count": null,
   "id": "452ab186-2418-47a8-9903-ee4f5a76448a",
   "metadata": {},
   "outputs": [],
   "source": [
    "# B) Data Directories & Base Datasets\n",
    "\n",
    "project_root = os.path.abspath(os.path.join(os.path.dirname(\"__file__\"), '..', '..'))\n",
    "\n",
    "train_dir = os.path.join(project_root, \"data\", \"train\")\n",
    "val_dir   = os.path.join(project_root, \"data\", \"val\")"
   ]
  },
  {
   "cell_type": "code",
   "execution_count": 4,
   "id": "1ab7a033-d02e-42b3-aefc-e77d8aa35b8d",
   "metadata": {},
   "outputs": [],
   "source": [
    "# C) Define Grayscale Augmentation Transforms\n",
    "\n",
    "# For training, we add random augmentation; for validation, only resize and normalize.\n",
    "train_transform = transforms.Compose([\n",
    "    transforms.RandomResizedCrop((112, 112), scale=(0.8, 1.0)),\n",
    "    transforms.RandomHorizontalFlip(p=0.5),\n",
    "    transforms.RandomRotation(degrees=10),\n",
    "    transforms.ToTensor(),  # converts PIL Image in L mode to tensor shape (1, H, W) with pixel values [0,1]\n",
    "    transforms.Normalize(mean=[0.5], std=[0.5])\n",
    "])\n",
    "\n",
    "val_transform = transforms.Compose([\n",
    "    transforms.Resize((112, 112)),\n",
    "    transforms.ToTensor(),\n",
    "    transforms.Normalize(mean=[0.5], std=[0.5])\n",
    "])"
   ]
  },
  {
   "cell_type": "code",
   "execution_count": null,
   "id": "a9113915-a953-4b17-b565-aabf48eeb445",
   "metadata": {},
   "outputs": [
    {
     "name": "stdout",
     "output_type": "stream",
     "text": [
      "[DEBUG] CNN feature_dim = 25088\n"
     ]
    },
    {
     "name": "stderr",
     "output_type": "stream",
     "text": [
      "Epoch 1/20: 100%|██████████████████████████████████████████████████████████████████████████████████████████████████| 41/41 [02:21<00:00,  3.46s/it, loss=1.1, acc=0.404]\n"
     ]
    },
    {
     "name": "stdout",
     "output_type": "stream",
     "text": [
      "Epoch 1 | Train Loss: 1.0980 | Train Acc: 40.37% | Val Acc: 35.90%\n"
     ]
    },
    {
     "name": "stderr",
     "output_type": "stream",
     "text": [
      "Epoch 2/20: 100%|█████████████████████████████████████████████████████████████████████████████████████████████████| 41/41 [02:25<00:00,  3.54s/it, loss=1.04, acc=0.453]\n"
     ]
    },
    {
     "name": "stdout",
     "output_type": "stream",
     "text": [
      "Epoch 2 | Train Loss: 1.0418 | Train Acc: 45.34% | Val Acc: 38.46%\n"
     ]
    },
    {
     "name": "stderr",
     "output_type": "stream",
     "text": [
      "Epoch 3/20: 100%|█████████████████████████████████████████████████████████████████████████████████████████████████| 41/41 [02:24<00:00,  3.53s/it, loss=1.03, acc=0.453]\n"
     ]
    },
    {
     "name": "stdout",
     "output_type": "stream",
     "text": [
      "Epoch 3 | Train Loss: 1.0334 | Train Acc: 45.34% | Val Acc: 38.46%\n"
     ]
    },
    {
     "name": "stderr",
     "output_type": "stream",
     "text": [
      "Epoch 4/20: 100%|████████████████████████████████████████████████████████████████████████████████████████████████| 41/41 [02:25<00:00,  3.55s/it, loss=0.982, acc=0.453]\n"
     ]
    },
    {
     "name": "stdout",
     "output_type": "stream",
     "text": [
      "Epoch 4 | Train Loss: 0.9816 | Train Acc: 45.34% | Val Acc: 33.33%\n"
     ]
    },
    {
     "name": "stderr",
     "output_type": "stream",
     "text": [
      "Epoch 5/20: 100%|████████████████████████████████████████████████████████████████████████████████████████████████| 41/41 [02:28<00:00,  3.62s/it, loss=0.974, acc=0.447]\n"
     ]
    },
    {
     "name": "stdout",
     "output_type": "stream",
     "text": [
      "Epoch 5 | Train Loss: 0.9743 | Train Acc: 44.72% | Val Acc: 33.33%\n"
     ]
    },
    {
     "name": "stderr",
     "output_type": "stream",
     "text": [
      "Epoch 6/20: 100%|████████████████████████████████████████████████████████████████████████████████████████████████| 41/41 [02:37<00:00,  3.85s/it, loss=0.931, acc=0.534]\n"
     ]
    },
    {
     "name": "stdout",
     "output_type": "stream",
     "text": [
      "Epoch 6 | Train Loss: 0.9311 | Train Acc: 53.42% | Val Acc: 41.03%\n"
     ]
    },
    {
     "name": "stderr",
     "output_type": "stream",
     "text": [
      "Epoch 7/20: 100%|████████████████████████████████████████████████████████████████████████████████████████████████| 41/41 [02:58<00:00,  4.36s/it, loss=0.949, acc=0.516]\n"
     ]
    },
    {
     "name": "stdout",
     "output_type": "stream",
     "text": [
      "Epoch 7 | Train Loss: 0.9487 | Train Acc: 51.55% | Val Acc: 43.59%\n"
     ]
    },
    {
     "name": "stderr",
     "output_type": "stream",
     "text": [
      "Epoch 8/20: 100%|████████████████████████████████████████████████████████████████████████████████████████████████| 41/41 [03:29<00:00,  5.12s/it, loss=0.919, acc=0.528]\n"
     ]
    },
    {
     "name": "stdout",
     "output_type": "stream",
     "text": [
      "Epoch 8 | Train Loss: 0.9189 | Train Acc: 52.80% | Val Acc: 35.90%\n"
     ]
    },
    {
     "name": "stderr",
     "output_type": "stream",
     "text": [
      "Epoch 9/20: 100%|████████████████████████████████████████████████████████████████████████████████████████████████| 41/41 [03:17<00:00,  4.82s/it, loss=0.952, acc=0.509]\n"
     ]
    },
    {
     "name": "stdout",
     "output_type": "stream",
     "text": [
      "Epoch 9 | Train Loss: 0.9517 | Train Acc: 50.93% | Val Acc: 53.85%\n"
     ]
    },
    {
     "name": "stderr",
     "output_type": "stream",
     "text": [
      "Epoch 10/20: 100%|███████████████████████████████████████████████████████████████████████████████████████████████| 41/41 [03:02<00:00,  4.45s/it, loss=0.898, acc=0.584]\n"
     ]
    },
    {
     "name": "stdout",
     "output_type": "stream",
     "text": [
      "Epoch 10 | Train Loss: 0.8983 | Train Acc: 58.39% | Val Acc: 38.46%\n"
     ]
    },
    {
     "name": "stderr",
     "output_type": "stream",
     "text": [
      "Epoch 11/20: 100%|███████████████████████████████████████████████████████████████████████████████████████████████| 41/41 [02:40<00:00,  3.91s/it, loss=0.893, acc=0.584]\n"
     ]
    },
    {
     "name": "stdout",
     "output_type": "stream",
     "text": [
      "Epoch 11 | Train Loss: 0.8934 | Train Acc: 58.39% | Val Acc: 35.90%\n"
     ]
    },
    {
     "name": "stderr",
     "output_type": "stream",
     "text": [
      "Epoch 12/20: 100%|███████████████████████████████████████████████████████████████████████████████████████████████| 41/41 [02:30<00:00,  3.67s/it, loss=0.884, acc=0.571]\n"
     ]
    },
    {
     "name": "stdout",
     "output_type": "stream",
     "text": [
      "Epoch 12 | Train Loss: 0.8837 | Train Acc: 57.14% | Val Acc: 46.15%\n"
     ]
    },
    {
     "name": "stderr",
     "output_type": "stream",
     "text": [
      "Epoch 13/20: 100%|████████████████████████████████████████████████████████████████████████████████████████████████| 41/41 [02:30<00:00,  3.66s/it, loss=0.864, acc=0.59]\n"
     ]
    },
    {
     "name": "stdout",
     "output_type": "stream",
     "text": [
      "Epoch 13 | Train Loss: 0.8638 | Train Acc: 59.01% | Val Acc: 41.03%\n"
     ]
    },
    {
     "name": "stderr",
     "output_type": "stream",
     "text": [
      "Epoch 14/20: 100%|████████████████████████████████████████████████████████████████████████████████████████████████| 41/41 [02:46<00:00,  4.05s/it, loss=0.847, acc=0.64]\n"
     ]
    },
    {
     "name": "stdout",
     "output_type": "stream",
     "text": [
      "Epoch 14 | Train Loss: 0.8470 | Train Acc: 63.98% | Val Acc: 41.03%\n"
     ]
    },
    {
     "name": "stderr",
     "output_type": "stream",
     "text": [
      "Epoch 15/20: 100%|███████████████████████████████████████████████████████████████████████████████████████████████| 41/41 [02:51<00:00,  4.18s/it, loss=0.883, acc=0.609]\n"
     ]
    },
    {
     "name": "stdout",
     "output_type": "stream",
     "text": [
      "Epoch 15 | Train Loss: 0.8832 | Train Acc: 60.87% | Val Acc: 56.41%\n"
     ]
    },
    {
     "name": "stderr",
     "output_type": "stream",
     "text": [
      "Epoch 16/20: 100%|███████████████████████████████████████████████████████████████████████████████████████████████| 41/41 [02:39<00:00,  3.89s/it, loss=0.834, acc=0.609]\n"
     ]
    },
    {
     "name": "stdout",
     "output_type": "stream",
     "text": [
      "Epoch 16 | Train Loss: 0.8343 | Train Acc: 60.87% | Val Acc: 48.72%\n"
     ]
    },
    {
     "name": "stderr",
     "output_type": "stream",
     "text": [
      "Epoch 17/20: 100%|███████████████████████████████████████████████████████████████████████████████████████████████| 41/41 [02:33<00:00,  3.75s/it, loss=0.825, acc=0.658]\n"
     ]
    },
    {
     "name": "stdout",
     "output_type": "stream",
     "text": [
      "Epoch 17 | Train Loss: 0.8245 | Train Acc: 65.84% | Val Acc: 48.72%\n"
     ]
    },
    {
     "name": "stderr",
     "output_type": "stream",
     "text": [
      "Epoch 18/20: 100%|███████████████████████████████████████████████████████████████████████████████████████████████| 41/41 [02:38<00:00,  3.87s/it, loss=0.785, acc=0.665]\n"
     ]
    },
    {
     "name": "stdout",
     "output_type": "stream",
     "text": [
      "Epoch 18 | Train Loss: 0.7850 | Train Acc: 66.46% | Val Acc: 46.15%\n"
     ]
    },
    {
     "name": "stderr",
     "output_type": "stream",
     "text": [
      "Epoch 19/20: 100%|███████████████████████████████████████████████████████████████████████████████████████████████| 41/41 [02:46<00:00,  4.07s/it, loss=0.818, acc=0.634]\n"
     ]
    },
    {
     "name": "stdout",
     "output_type": "stream",
     "text": [
      "Epoch 19 | Train Loss: 0.8178 | Train Acc: 63.35% | Val Acc: 41.03%\n"
     ]
    },
    {
     "name": "stderr",
     "output_type": "stream",
     "text": [
      "Epoch 20/20:  83%|██████████████████████████████████████████████████████████████████████████████▊                | 34/41 [02:21<00:28,  4.10s/it, loss=0.749, acc=0.669]"
     ]
    }
   ],
   "source": [
    "# D) Create Dataset Wrappers\n",
    "\n",
    "# The HelplessnessVideoDataset loads all frames for a clip,\n",
    "# converts them to grayscale, applies the provided transform consistently per clip,\n",
    "# and returns a tensor of shape (T, 1, 112, 112) along with the label.\n",
    "train_dataset = HelplessnessVideoDataset(train_dir, transform=train_transform)\n",
    "val_dataset   = HelplessnessVideoDataset(val_dir, transform=val_transform)\n",
    "\n",
    "# E) DataLoaders\n",
    "batch_size = 4\n",
    "train_loader = DataLoader(train_dataset, batch_size=batch_size, shuffle=True, num_workers=0)\n",
    "val_loader   = DataLoader(val_dataset, batch_size=1, shuffle=False, num_workers=0)\n",
    "\n",
    "# F) Model, Loss, and Optimizer\n",
    "model = HelplessnessClassifier(num_classes=3).to(device)\n",
    "criterion = nn.CrossEntropyLoss()\n",
    "optimizer = optim.AdamW(model.parameters(), lr=1e-4, weight_decay=1e-4)\n",
    "\n",
    "\n",
    "# G) Validation Function\n",
    "def validate():\n",
    "    model.eval()\n",
    "    correct, total = 0, 0\n",
    "    with torch.no_grad():\n",
    "        for sequences, labels in val_loader:\n",
    "            # sequences shape: (B, T, 1, 112, 112)\n",
    "            sequences, labels = sequences.to(device), labels.to(device)\n",
    "            outputs = model(sequences)  # Model expects input shape (B, T, 1, 112, 112)\n",
    "            _, preds = torch.max(outputs, 1)\n",
    "            correct += (preds == labels).sum().item()\n",
    "            total += labels.size(0)\n",
    "    return correct / total\n",
    "\n",
    "\n",
    "# H) Training Loop\n",
    "num_epochs = 20\n",
    "for epoch in range(num_epochs):\n",
    "    model.train()\n",
    "    running_loss = 0.0\n",
    "    correct, total = 0, 0\n",
    "\n",
    "    loop = tqdm(train_loader, desc=f\"Epoch {epoch+1}/{num_epochs}\")\n",
    "    for sequences, labels in loop:\n",
    "        # sequences: (B, T, 1, 112, 112)\n",
    "        sequences, labels = sequences.to(device), labels.to(device)\n",
    "        optimizer.zero_grad()\n",
    "        outputs = model(sequences)  # (B, num_classes)\n",
    "        loss = criterion(outputs, labels)\n",
    "        loss.backward()\n",
    "        optimizer.step()\n",
    "\n",
    "        running_loss += loss.item()\n",
    "        _, preds = torch.max(outputs, 1)\n",
    "        correct += (preds == labels).sum().item()\n",
    "        total += labels.size(0)\n",
    "\n",
    "        loop.set_postfix({\"loss\": running_loss / (loop.n + 1), \"acc\": correct / total})\n",
    "\n",
    "    train_acc = (correct / total) * 100\n",
    "    val_acc = validate() * 100\n",
    "    epoch_loss = running_loss / len(train_loader)\n",
    "    print(f\"Epoch {epoch+1} | Train Loss: {epoch_loss:.4f} | Train Acc: {train_acc:.2f}% | Val Acc: {val_acc:.2f}%\")\n",
    "\n",
    "\n",
    "# I) Save the Model\n",
    "save_path = os.path.join('.', 'grayscale_cnn_lstm.pth')\n",
    "torch.save(model.state_dict(), save_path)\n",
    "print(f\"Saved model weights to: {save_path}\")"
   ]
  },
  {
   "cell_type": "code",
   "execution_count": null,
   "id": "7b4e0422-de5d-42cc-b898-0066fe7a2c63",
   "metadata": {},
   "outputs": [],
   "source": []
  }
 ],
 "metadata": {
  "kernelspec": {
   "display_name": "cmpt419project",
   "language": "python",
   "name": "python3"
  },
  "language_info": {
   "codemirror_mode": {
    "name": "ipython",
    "version": 3
   },
   "file_extension": ".py",
   "mimetype": "text/x-python",
   "name": "python",
   "nbconvert_exporter": "python",
   "pygments_lexer": "ipython3",
   "version": "3.12.9"
  }
 },
 "nbformat": 4,
 "nbformat_minor": 5
}
